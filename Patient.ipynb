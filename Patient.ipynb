{
 "cells": [
  {
   "cell_type": "code",
   "execution_count": 1,
   "id": "8f8d435c-29d1-4b30-b14d-6f1d82a9c7aa",
   "metadata": {},
   "outputs": [
    {
     "name": "stdout",
     "output_type": "stream",
     "text": [
      "Patient ID: P12345\n",
      "Name: J*** S***\n",
      "Age: 35\n",
      "Address: 123 Main St, City\n",
      "Admit Date: 2024-04-08\n",
      "Total Medical Bill: $2,250.00\n"
     ]
    }
   ],
   "source": [
    "class Patient:\n",
    "    def __init__(self, first_name, last_name, patient_id, age, address, admit_date):\n",
    "        self.first_name = first_name\n",
    "        self.last_name = last_name\n",
    "        self.patient_id = patient_id\n",
    "        self.age = age\n",
    "        self.address = address\n",
    "        self.admit_date = admit_date\n",
    "        self.medical_costs = []  # List to store medical costs\n",
    "\n",
    "    def add_medical_cost(self, cost):\n",
    "        \"\"\"Add a medical cost to the patient's record.\"\"\"\n",
    "        self.medical_costs.append(cost)\n",
    "\n",
    "    def get_total_bill(self):\n",
    "        \"\"\"Calculate the total medical bill.\"\"\"\n",
    "        return sum(self.medical_costs)\n",
    "\n",
    "    def get_masked_name(self):\n",
    "        \"\"\"Get the masked name (initials).\"\"\"\n",
    "        masked_first_name = self.first_name[0] + \"***\"\n",
    "        masked_last_name = self.last_name[0] + \"***\"\n",
    "        return f\"{masked_first_name} {masked_last_name}\"\n",
    "\n",
    "# Example usage:\n",
    "if __name__ == \"__main__\":\n",
    "    # Create a patient\n",
    "    jane = Patient(first_name=\"Jane\", last_name=\"Smith\", patient_id=\"P12345\",\n",
    "                   age=35, address=\"123 Main St, City\", admit_date=\"2024-04-08\")\n",
    "\n",
    "    # Add medical costs\n",
    "    jane.add_medical_cost(1000)\n",
    "    jane.add_medical_cost(500)\n",
    "    jane.add_medical_cost(750)\n",
    "\n",
    "    # Display patient details\n",
    "    print(f\"Patient ID: {jane.patient_id}\")\n",
    "    print(f\"Name: {jane.get_masked_name()}\")\n",
    "    print(f\"Age: {jane.age}\")\n",
    "    print(f\"Address: {jane.address}\")\n",
    "    print(f\"Admit Date: {jane.admit_date}\")\n",
    "    print(f\"Total Medical Bill: ${jane.get_total_bill():,.2f}\")\n"
   ]
  }
 ],
 "metadata": {
  "kernelspec": {
   "display_name": "Python 3 (ipykernel)",
   "language": "python",
   "name": "python3"
  },
  "language_info": {
   "codemirror_mode": {
    "name": "ipython",
    "version": 3
   },
   "file_extension": ".py",
   "mimetype": "text/x-python",
   "name": "python",
   "nbconvert_exporter": "python",
   "pygments_lexer": "ipython3",
   "version": "3.11.5"
  }
 },
 "nbformat": 4,
 "nbformat_minor": 5
}
