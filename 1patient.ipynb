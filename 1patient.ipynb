{
 "cells": [
  {
   "cell_type": "code",
   "execution_count": null,
   "id": "aeddd76e-bf30-4dbd-b890-97227f491579",
   "metadata": {},
   "outputs": [
    {
     "name": "stdin",
     "output_type": "stream",
     "text": [
      "Enter patient's first name (or 'q' to quit):  John\n",
      "Enter patient's last name:  Smith\n",
      "Enter patient's ID:  1234\n",
      "Enter patient's age:  34\n",
      "Enter patient's address:  234 buckley ave, Phoenix, Az, 85006\n",
      "Enter patient's admit date:  06/01/2023\n"
     ]
    },
    {
     "name": "stdout",
     "output_type": "stream",
     "text": [
      "Patient ID: 1234\n",
      "Name: J*** S***\n",
      "Age: 34\n",
      "Address: 234 buckley ave, Phoenix, Az, 85006\n",
      "Admit Date: 06/01/2023\n"
     ]
    },
    {
     "name": "stdin",
     "output_type": "stream",
     "text": [
      "Enter a medical cost (or 'q' to finish):  2000\n",
      "Enter a medical cost (or 'q' to finish):  2000\n",
      "Enter a medical cost (or 'q' to finish):  q\n"
     ]
    },
    {
     "name": "stdout",
     "output_type": "stream",
     "text": [
      "Total Medical Bill: $4,000.00\n",
      "Name: John Smith, Age: 34, Email: , Phone: \n",
      "\n"
     ]
    }
   ],
   "source": [
    "class Person:\n",
    "    def __init__(self, name, age, email, phone):\n",
    "        self.name = name  # Set the name of the person\n",
    "        self.age = age  # Set the age of the person\n",
    "        self.email = email  # Set the email of the person\n",
    "        self.phone = phone  # Set the phone number of the person\n",
    "\n",
    "    def display_profile(self):\n",
    "        print(f\"Name: {self.name}, Age: {self.age}, Email: {self.email}, Phone: {self.phone}\")\n",
    "\n",
    "\n",
    "class Patient(Person):\n",
    "    def __init__(self, first_name, last_name, patient_id, age, address, admit_date):\n",
    "        super().__init__(f\"{first_name} {last_name}\", age, \"\", \"\")  # Call the __init__ method of the superclass (Person)\n",
    "        self.patient_id = patient_id\n",
    "        self.address = address\n",
    "        self.admit_date = admit_date\n",
    "        self.medical_costs = []  # List to store medical costs\n",
    "\n",
    "    def add_medical_cost(self, cost):\n",
    "        \"\"\"Add a medical cost to the patient's record.\"\"\"\n",
    "        self.medical_costs.append(cost)\n",
    "\n",
    "    def get_total_bill(self):\n",
    "        \"\"\"Calculate the total medical bill.\"\"\"\n",
    "        return sum(self.medical_costs)\n",
    "\n",
    "    def get_masked_name(self):\n",
    "        \"\"\"Get the masked name (initials).\"\"\"\n",
    "        masked_first_name = self.name.split()[0][0] + \"***\"\n",
    "        masked_last_name = self.name.split()[1][0] + \"***\"\n",
    "        return f\"{masked_first_name} {masked_last_name}\"\n",
    "\n",
    "\n",
    "# Function to get patient information from user input\n",
    "def get_patient_info():\n",
    "    first_name = input(\"Enter patient's first name (or 'q' to quit): \")  # Get the patient's first name from the user\n",
    "    if first_name.lower() == 'q':  # If the user enters 'q', return None and quit\n",
    "        return None\n",
    "    last_name = input(\"Enter patient's last name: \")  # Get the patient's last name from the user\n",
    "    patient_id = input(\"Enter patient's ID: \")  # Get the patient's ID from the user\n",
    "    age = int(input(\"Enter patient's age: \"))  # Get the patient's age from the user and convert it to an integer\n",
    "    address = input(\"Enter patient's address: \")  # Get the patient's address from the user\n",
    "    admit_date = input(\"Enter patient's admit date: \")  # Get the patient's admit date from the user\n",
    "\n",
    "    # Return a new Patient object with the input information\n",
    "    return Patient(first_name, last_name, patient_id, age, address, admit_date)\n",
    "\n",
    "\n",
    "# Main loop to allow user to enter multiple patient profiles\n",
    "while True:\n",
    "    patient = get_patient_info()  # Call the function to get patient's information from user input and store it in the 'patient' variable\n",
    "    if patient is None:  # If the function returns None (i.e., the user entered 'q' to quit), break the loop\n",
    "        break\n",
    "\n",
    "    # Display patient details\n",
    "    print(f\"Patient ID: {patient.patient_id}\")\n",
    "    print(f\"Name: {patient.get_masked_name()}\")\n",
    "    print(f\"Age: {patient.age}\")\n",
    "    print(f\"Address: {patient.address}\")\n",
    "    print(f\"Admit Date: {patient.admit_date}\")\n",
    "\n",
    "    # Add medical costs\n",
    "    while True:\n",
    "        cost = input(\"Enter a medical cost (or 'q' to finish): \")  # Get the medical cost from the user\n",
    "        if cost.lower() == 'q':\n",
    "            break\n",
    "        patient.add_medical_cost(float(cost))  # Add the medical cost to the patient's record\n",
    "\n",
    "    print(f\"Total Medical Bill: ${patient.get_total_bill():,.2f}\")\n",
    "    patient.display_profile()  # Display the patient's profile\n",
    "    print()  # Print a newline for better readability"
   ]
  }
 ],
 "metadata": {
  "kernelspec": {
   "display_name": "Python 3 (ipykernel)",
   "language": "python",
   "name": "python3"
  },
  "language_info": {
   "codemirror_mode": {
    "name": "ipython",
    "version": 3
   },
   "file_extension": ".py",
   "mimetype": "text/x-python",
   "name": "python",
   "nbconvert_exporter": "python",
   "pygments_lexer": "ipython3",
   "version": "3.11.5"
  }
 },
 "nbformat": 4,
 "nbformat_minor": 5
}
