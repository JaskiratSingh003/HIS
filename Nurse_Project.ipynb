{
 "cells": [
  {
   "cell_type": "code",
   "execution_count": 1,
   "id": "34cdadbb-e095-4a68-a66a-b49ab792a417",
   "metadata": {},
   "outputs": [
    {
     "name": "stdin",
     "output_type": "stream",
     "text": [
      "Please enter nurse first name here. Victoria\n",
      "Please enter nurse last name here. Hodgson\n",
      "Please enter Nurse floor here. 8\n",
      "Enter patient's first name (or 'q' to quit):  Victoria \n",
      "Enter patient's last name:  Hodgson\n",
      "Enter patient's ID:  123\n",
      "Enter patient's age:  123\n",
      "Enter patient's address:  24\n",
      "Enter your email address:  124\n",
      "Enter your phone no. :  24\n",
      "Enter patient's admit date:  214214\n"
     ]
    },
    {
     "name": "stdout",
     "output_type": "stream",
     "text": [
      "None\n",
      "Victoria \n",
      "None\n"
     ]
    }
   ],
   "source": [
    "class Person:\n",
    "    def __init__(self, first_name, last_name):\n",
    "        self.first_name = first_name\n",
    "        self.last_name = last_name\n",
    "\n",
    "   \n",
    "\n",
    "        \n",
    "class Patient(Person):\n",
    "    def __init__(self, first_name = \"\", last_name = \"\", patient_id = \"\", age= \"\", address= \"\", admit_date = \"\"):\n",
    "        super().__init__(first_name, last_name)  # Call the __init__ method of the superclass (Person)\n",
    "        self.patient_id = patient_id\n",
    "        self.age = age\n",
    "        self.address = address\n",
    "        self.admit_date = admit_date\n",
    "        self.medical_costs = []  # List to store medical costs\n",
    "\n",
    "    def add_medical_cost(self, cost):\n",
    "        \"\"\"Add a medical cost to the patient's record.\"\"\"\n",
    "        self.medical_costs.append(cost)\n",
    "\n",
    "    def get_total_bill(self):\n",
    "        \"\"\"Calculate the total medical bill.\"\"\"\n",
    "        return sum(self.medical_costs)\n",
    "\n",
    "    def get_masked_name(self):\n",
    "        \"\"\"Get the masked name (initials).\"\"\"\n",
    "        masked_first_name = self.name.split()[0][0] + \"***\"\n",
    "        masked_last_name = self.name.split()[1][0] + \"***\"\n",
    "        return f\"{masked_first_name} {masked_last_name}\"\n",
    "\n",
    "\n",
    "\n",
    "class Nurse(Person): \n",
    "    def __init__(self, first_name, last_name, floor_number): \n",
    "        super().__init__(first_name, last_name)\n",
    "        self.floor_number = floor_number \n",
    "\n",
    "#Function to create a new patient and get their information. \n",
    "def get_patient_info(patient):\n",
    "    Patient.first_name = input(\"Enter patient's first name (or 'q' to quit): \")  # Get the patient's first name from the user\n",
    "    if Patient.first_name.lower() == 'q':  # If the user enters 'q', return None and quit\n",
    "        return None\n",
    "    Patient.last_name = input(\"Enter patient's last name: \")  # Get the patient's last name from the user\n",
    "    Patient.patient_id = input(\"Enter patient's ID: \")  # Get the patient's ID from the user\n",
    "    Patient.age = int(input(\"Enter patient's age: \"))  # Get the patient's age from the user and convert it to an integer\n",
    "    Patient.address = input(\"Enter patient's address: \")  # Get the patient's address from the user\n",
    "    Patient.email = input(\"Enter your email address: \") # Get the patient's email from the user\n",
    "    Patient.phone = input(\"Enter your phone no. : \") # Get the patient's phone no. from the user\n",
    "    Patient.admit_date = input(\"Enter patient's admit date: \")  # Get the patient's admit date from the user\n",
    "\n",
    "#Function to print out Patient information. \n",
    "def print_patient_info(patient): \n",
    "    print(f' Name: {Patient.first_name, Patient.last_name}')\n",
    "    print(f' Patient ID: {Patient.patient_id}')\n",
    "    print(f' Age: {Patient.age}')\n",
    "    print(f' Address: {Patient.address}')\n",
    "    print(f' Email: {Patient.email}')\n",
    "    print(f' Admit Date: {Patient.admit_date}')\n",
    "\n",
    "def \n",
    "\n",
    "        \n",
    "\n",
    "\n",
    "\n",
    "nurse = Nurse(input(\"Please enter nurse first name here.\"), input(\"Please enter nurse last name here.\"), input(\"Please enter Nurse floor here.\"))\n",
    "patient = Patient()\n",
    "\n",
    "    "
   ]
  },
  {
   "cell_type": "code",
   "execution_count": null,
   "id": "c017e187-7184-45f3-b859-d198d23c6ebe",
   "metadata": {},
   "outputs": [],
   "source": []
  }
 ],
 "metadata": {
  "kernelspec": {
   "display_name": "Python 3 (ipykernel)",
   "language": "python",
   "name": "python3"
  },
  "language_info": {
   "codemirror_mode": {
    "name": "ipython",
    "version": 3
   },
   "file_extension": ".py",
   "mimetype": "text/x-python",
   "name": "python",
   "nbconvert_exporter": "python",
   "pygments_lexer": "ipython3",
   "version": "3.11.5"
  }
 },
 "nbformat": 4,
 "nbformat_minor": 5
}
