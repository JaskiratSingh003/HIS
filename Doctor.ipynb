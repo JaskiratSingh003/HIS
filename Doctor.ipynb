{
 "cells": [
  {
   "cell_type": "code",
   "execution_count": 1,
   "id": "2ce799ae-ad76-411a-b459-a7a7765e70fa",
   "metadata": {},
   "outputs": [],
   "source": [
    "# Doctor module"
   ]
  },
  {
   "cell_type": "code",
   "execution_count": 16,
   "id": "b60b40e5-826c-431a-95d7-2c42a052fa1c",
   "metadata": {},
   "outputs": [],
   "source": [
    "class Person:\n",
    "    def __init__(self, first_name, last_name, department):\n",
    "        self.first_name = first_name\n",
    "        self.last_name = last_name\n",
    "        self.department = department\n",
    "\n",
    "    def get_full_name(self):\n",
    "        return f\"{self.first_name} {self.last_name}\""
   ]
  },
  {
   "cell_type": "code",
   "execution_count": null,
   "id": "97cf28b3-9746-4744-af2d-b50105a7d9a2",
   "metadata": {},
   "outputs": [],
   "source": [
    "\"\"\"\n",
    "Doctor Module: doctor must login. Default login: Doctor ID = chief, Password = 12345. Doctors can create new doctors (ID and password); Create patients. \n",
    "Create/view all patient details; order lab tests (with costs) to a patient. Discharge patient. First name, last name, specialty, phone number.\n",
    "\"\"\""
   ]
  },
  {
   "cell_type": "code",
   "execution_count": 15,
   "id": "5be8064a-2dcc-45f9-8b16-ae2f0402fb12",
   "metadata": {},
   "outputs": [
    {
     "name": "stdin",
     "output_type": "stream",
     "text": [
      "Username:  hello\n",
      "Password:  hi\n"
     ]
    }
   ],
   "source": [
    "class Doctor(Person):\n",
    "\n",
    "    def __init__(self, first_name, last_name, department, doctor_id, password):\n",
    "        super().__init__(first_name, last_name, department)\n",
    "        self.doctor_id = doctor_id\n",
    "        self.password = password\n",
    "\n",
    "    def get_doc_id_pass(self):\n",
    "        return f\"{doctor_id}: {password}\"\n",
    "\n",
    "    # Create new doctors w/ ID and password - store in dictionary\n",
    "    def add_doctor(self):\n",
    "        doctor_directory = {}\n",
    "        doc_id_pass = self.get_doc_id_pass()\n",
    "        Doctor.doctor_directory[get_doc_id_pass] = self\n",
    "        \n",
    "    # Create patients - create/view all patient details; order lab tests (w/ costs)\n",
    "    \n",
    "\n",
    "\n",
    "    # Discharge patient (full name, specialty, phone number)\n",
    "    def discharge_pt_info(self):\n",
    "        return None\n",
    "    \n",
    "\n",
    "\n",
    "# Default login\n",
    "doctor_id = input(\"Username: \")\n",
    "password = input(\"Password: \")\n",
    "\n",
    "try:\n",
    "    if (doctor_id == \"chief\") and (password == \"12345\"):\n",
    "        print(\"Hi\")\n",
    "    else:\n",
    "        pass\n",
    "except:\n",
    "    print(f\"You have entered the incorrect information. Please try again.\")"
   ]
  },
  {
   "cell_type": "code",
   "execution_count": null,
   "id": "fa065540-8939-4a1f-bec0-30afeffcbabc",
   "metadata": {},
   "outputs": [],
   "source": []
  }
 ],
 "metadata": {
  "kernelspec": {
   "display_name": "Python 3 (ipykernel)",
   "language": "python",
   "name": "python3"
  },
  "language_info": {
   "codemirror_mode": {
    "name": "ipython",
    "version": 3
   },
   "file_extension": ".py",
   "mimetype": "text/x-python",
   "name": "python",
   "nbconvert_exporter": "python",
   "pygments_lexer": "ipython3",
   "version": "3.11.5"
  }
 },
 "nbformat": 4,
 "nbformat_minor": 5
}
