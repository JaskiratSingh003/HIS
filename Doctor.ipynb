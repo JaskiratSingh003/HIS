class Doctor(Person):

    def __init__(self, first_name, last_name, department, doctor_id, password):
        super().__init__(first_name, last_name, department)
        self.doctor_id = doctor_id
        self.password = password

    def get_doc_id_pass(self):
        return f"{doctor_id}: {password}"

    # Create new doctors w/ ID and password - store in dictionary
    def add_doctor(self):
        doctor_directory = {}
        doc_id_pass = self.get_doc_id_pass()
        Doctor.doctor_directory[get_doc_id_pass] = self
        
    # Create patients - create/view all patient details; order lab tests (w/ costs)
    


    # Discharge patient (full name, specialty, phone number)
    def discharge_pt_info(self):
        return None
    


# Default login
doctor_id = input("Username: ")
password = input("Password: ")

try:
    if (doctor_id == "chief") and (password == "12345"):
        print("Hi")
    else:
        pass
except:
    print(f"You have entered the incorrect information. Please try again.")
