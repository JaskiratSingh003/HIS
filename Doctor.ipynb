{
 "cells": [
  {
   "cell_type": "code",
   "execution_count": null,
   "id": "2ce799ae-ad76-411a-b459-a7a7765e70fa",
   "metadata": {},
   "outputs": [],
   "source": [
    "# Doctor module"
   ]
  },
  {
   "cell_type": "code",
   "execution_count": 1,
   "id": "b60b40e5-826c-431a-95d7-2c42a052fa1c",
   "metadata": {},
   "outputs": [],
   "source": [
    "class Person:\n",
    "    def __init__(self, first_name, last_name, department):\n",
    "        self.first_name = first_name\n",
    "        self.last_name = last_name\n",
    "        self.department = department\n",
    "\n",
    "    def get_full_name(self):\n",
    "        return f\"{self.first_name} {self.last_name}\""
   ]
  },
  {
   "cell_type": "code",
   "execution_count": null,
   "id": "97cf28b3-9746-4744-af2d-b50105a7d9a2",
   "metadata": {},
   "outputs": [],
   "source": [
    "\"\"\"\n",
    "Doctor Module: doctor must login. Default login: Doctor ID = chief, Password = 12345. Doctors can create new doctors (ID and password); Create patients. \n",
    "Create/view all patient details; order lab tests (with costs) to a patient. Discharge patient. First name, last name, specialty, phone number.\n",
    "\"\"\""
   ]
  },
  {
   "cell_type": "code",
   "execution_count": 9,
   "id": "fa065540-8939-4a1f-bec0-30afeffcbabc",
   "metadata": {},
   "outputs": [
    {
     "name": "stdin",
     "output_type": "stream",
     "text": [
      "Enter your username:  chief\n",
      "Enter the password:  12345\n"
     ]
    },
    {
     "name": "stdout",
     "output_type": "stream",
     "text": [
      "\n",
      "\n"
     ]
    },
    {
     "name": "stdin",
     "output_type": "stream",
     "text": [
      "First name:  hi\n",
      "Last name:  bye\n",
      "Department:  oh no\n",
      "Create a username for the doctor:  poop\n",
      "Create a password for the doctor:  face\n"
     ]
    },
    {
     "name": "stdout",
     "output_type": "stream",
     "text": [
      "\n",
      "Doctor has been successfully added!\n",
      "\n",
      "Doctor Directory:\n",
      "Profile for hi bye, oh no\n",
      "Doctor ID: poop\n",
      "Doctor Password: face\n",
      "\n",
      "<__main__.Doctor object at 0x1087fbe90>\n",
      "End of doctor directory.\n"
     ]
    },
    {
     "name": "stdin",
     "output_type": "stream",
     "text": [
      "Enter your username:  no\n",
      "Enter the password:  no\n"
     ]
    },
    {
     "name": "stdout",
     "output_type": "stream",
     "text": [
      "\n",
      "\n",
      "\n",
      "Incorrect username or password. Please try again.\n"
     ]
    }
   ],
   "source": [
    "class Doctor(Person):\n",
    "\n",
    "    def __init__(self, first_name, last_name, department, doctor_id, password):\n",
    "        super().__init__(first_name, last_name, department)\n",
    "        self.doctor_id = doctor_id\n",
    "        self.password = password\n",
    "\n",
    "    def get_doc_id_pass(self):\n",
    "        return self.doctor_id, self.password\n",
    "\n",
    "    # Creating new doctor w/ ID and password - store in directory\n",
    "    doctor_directory = {}\n",
    "    def add_doc_to_directory(self):\n",
    "        doc_id_pass = self.get_doc_id_pass()\n",
    "        Doctor.doctor_directory[doc_id_pass] = self\n",
    "\n",
    "\n",
    "while True:\n",
    "    doctor_login = input(\"Enter your username: \")\n",
    "    doctor_password = input(\"Enter the password: \")\n",
    "    print(\"\\n\")\n",
    "\n",
    "    if doctor_login == \"chief\" and doctor_password == \"12345\":\n",
    "        try:\n",
    "            first_name = input(\"First name: \")\n",
    "            last_name = input(\"Last name: \")\n",
    "            department = input(\"Department: \")\n",
    "            doctor_id = input(\"Create a username for the doctor: \")\n",
    "            password = input(\"Create a password for the doctor: \")\n",
    "            \n",
    "            new_doctor = Doctor(first_name, last_name, department, doctor_id, password)\n",
    "\n",
    "            # Add the doctor to the directory using (doctor_id, password) as key\n",
    "            #doctor_directory[(doctor_id, password)] = new_doctor\n",
    "            new_doctor.add_doc_to_directory()\n",
    "            print(\"\\nDoctor has been successfully added!\")\n",
    "\n",
    "        except:\n",
    "            print(f\"\\nAn error occurred.\")\n",
    "            continue  # Continue to the next iteration of the loop\n",
    "\n",
    "    else:\n",
    "        print(\"\\nIncorrect username or password. Please try again.\")\n",
    "        break  # Continue to the next iteration of the loop\n",
    "\n",
    "    print(\"\\nDoctor Directory:\")\n",
    "    for (doctor_id, password), doctor_info in Doctor.doctor_directory.items():\n",
    "        print(f\"Profile for {doctor_info.get_full_name()}, {doctor_info.department}\")\n",
    "        print(f\"Doctor ID: {doctor_info.doctor_id}\")\n",
    "        print(f\"Doctor Password: {doctor_info.password}\\n\")\n",
    "\n",
    "    print(\"End of doctor directory.\")"
   ]
  },
  {
   "cell_type": "code",
   "execution_count": null,
   "id": "0f92fe7d-1c66-4ae6-a166-dc253f3daae8",
   "metadata": {},
   "outputs": [],
   "source": [
    "while True:\n",
    "    doctor_login = input(\"Enter your username: \")\n",
    "    doctor_password = input(\"Enter the password: \")\n",
    "    print(\"\\n\")\n",
    "\n",
    "    if doctor_login == \"chief\" and doctor_password == \"12345\":\n",
    "        try:\n",
    "            print(\"Hello Doctor. What would you like to do?\")\n",
    "            print(\"1. Create doctor login\")\n",
    "            print(\"2. Create nurse login\")\n",
    "            print(\"3. Create patient\")\n",
    "            print(\"4. Update or View patient details\") # Add with meds, patient assignment\n",
    "            print(\"5. Order lab tests to patient\")\n",
    "            print(\"6. Discharge patient\")\n",
    "\n",
    "            choice = int(input(\"Please select an option from 1-6.\")\n",
    "                if (choice == 1):\n",
    "                    self.create_new_doctor()\n",
    "\n",
    "        except:\n",
    "            print(f\"\\nAn error occurred.\")\n",
    "            continue  # Continue to the next iteration of the loop\n",
    "\n",
    "    else:\n",
    "        print(\"\\nIncorrect username or password. Please try again.\")\n",
    "        break  # Continue to the next iteration of the loop"
   ]
  }
 ],
 "metadata": {
  "kernelspec": {
   "display_name": "Python 3 (ipykernel)",
   "language": "python",
   "name": "python3"
  },
  "language_info": {
   "codemirror_mode": {
    "name": "ipython",
    "version": 3
   },
   "file_extension": ".py",
   "mimetype": "text/x-python",
   "name": "python",
   "nbconvert_exporter": "python",
   "pygments_lexer": "ipython3",
   "version": "3.11.5"
  }
 },
 "nbformat": 4,
 "nbformat_minor": 5
}
